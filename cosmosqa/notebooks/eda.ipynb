{
 "cells": [
  {
   "cell_type": "code",
   "execution_count": 1,
   "metadata": {},
   "outputs": [],
   "source": [
    "import torch\n",
    "from transformers import BertTokenizer"
   ]
  },
  {
   "cell_type": "code",
   "execution_count": 2,
   "metadata": {},
   "outputs": [],
   "source": [
    "tokenizer = BertTokenizer.from_pretrained(\"bert-base-uncased\")\n",
    "\n",
    "orig_text = [\n",
    "    \"I like bananas.\",\n",
    "    \"Yesterday the mailman came by!\",\n",
    "    \"Do you enjoy cookies?\",\n",
    "]\n",
    "edit_text = [\n",
    "    \"Do you?\",\n",
    "    \"He delivered a mystery package.\",\n",
    "    \"My grandma just baked some!\",\n",
    "]"
   ]
  },
  {
   "cell_type": "code",
   "execution_count": 3,
   "metadata": {},
   "outputs": [],
   "source": [
    "MAX_LEN = 20"
   ]
  },
  {
   "cell_type": "code",
   "execution_count": 4,
   "metadata": {},
   "outputs": [],
   "source": [
    "def truncate_and_merge(tokens_a, tokens_b, max_lenth):\n",
    "    i = len(tokens_a)\n",
    "    j = len(tokens_b)\n",
    "    while True:\n",
    "        total_length = i + j\n",
    "        if i <= 0 or j <= 0:\n",
    "            raise ValueError(\"Concat Error. One of the String Len is 0\")\n",
    "        if total_length <= max_lenth:\n",
    "            break\n",
    "        if i > j:\n",
    "            i = i - 1\n",
    "        else:\n",
    "            j = j - 1\n",
    "\n",
    "    print(type(tokens_a))\n",
    "    print(tokens_a.narrow(0, 0, i))\n",
    "    print(tokens_b.narrow(0, 0, j))\n",
    "    return torch.cat((tokens_a[:i], tokens_b[:j]), 0)"
   ]
  },
  {
   "cell_type": "code",
   "execution_count": 5,
   "metadata": {},
   "outputs": [],
   "source": [
    "sent_1 = orig_text[0]\n",
    "sent_1_tokens = tokenizer.encode_plus(\n",
    "        sent_1,\n",
    "        add_special_tokens=False,\n",
    "        padding=False,\n",
    "        return_tensors=\"pt\",\n",
    "    )\n",
    "sent_2 = edit_text[0]\n",
    "sent_2_tokens = tokenizer.encode_plus(\n",
    "        sent_2,\n",
    "        add_special_tokens=False,\n",
    "        padding=False,\n",
    "        return_tensors=\"pt\",\n",
    "    )"
   ]
  },
  {
   "cell_type": "code",
   "execution_count": 6,
   "metadata": {},
   "outputs": [],
   "source": [
    "# sent_1_tokens[\"input_ids\"].size(1)"
   ]
  },
  {
   "cell_type": "code",
   "execution_count": 7,
   "metadata": {},
   "outputs": [],
   "source": [
    "# x = truncate_and_merge(sent_1_tokens, sent_2_tokens, 5)\n",
    "max_length = MAX_LEN - 3\n",
    "i = sent_1_tokens[\"input_ids\"].size(1)\n",
    "j = sent_2_tokens[\"input_ids\"].size(1)\n",
    "while True:\n",
    "    total_length = i + j\n",
    "    if i <= 0 or j <= 0:\n",
    "        raise ValueError(\"Concat Error. One of the String Len is 0\")\n",
    "    if total_length <= max_length:\n",
    "        break\n",
    "    if i > j:\n",
    "        i = i - 1\n",
    "    else:\n",
    "        j = j - 1\n",
    "total_padding_required = MAX_LEN - (total_length + 3)"
   ]
  },
  {
   "cell_type": "code",
   "execution_count": 8,
   "metadata": {},
   "outputs": [
    {
     "data": {
      "text/plain": [
       "(4, 3, 10)"
      ]
     },
     "execution_count": 8,
     "metadata": {},
     "output_type": "execute_result"
    }
   ],
   "source": [
    "i, j, total_padding_required"
   ]
  },
  {
   "cell_type": "code",
   "execution_count": 9,
   "metadata": {},
   "outputs": [],
   "source": [
    "# dir(sent_1_tokens)\n",
    "for k, v in sent_1_tokens.items():\n",
    "    sent_1_tokens[k] = sent_1_tokens[k][:, :i]\n",
    "\n",
    "    # dir(sent_1_tokens)\n",
    "for k, v in sent_2_tokens.items():\n",
    "    sent_2_tokens[k] = sent_2_tokens[k][:, :j]"
   ]
  },
  {
   "cell_type": "code",
   "execution_count": 10,
   "metadata": {},
   "outputs": [
    {
     "data": {
      "text/plain": [
       "{'input_ids': tensor([[ 1045,  2066, 26191,  1012]]), 'token_type_ids': tensor([[0, 0, 0, 0]]), 'attention_mask': tensor([[1, 1, 1, 1]])}"
      ]
     },
     "execution_count": 10,
     "metadata": {},
     "output_type": "execute_result"
    }
   ],
   "source": [
    "sent_1_tokens"
   ]
  },
  {
   "cell_type": "code",
   "execution_count": 11,
   "metadata": {},
   "outputs": [
    {
     "data": {
      "text/plain": [
       "{'input_ids': tensor([[2079, 2017, 1029]]), 'token_type_ids': tensor([[0, 0, 0]]), 'attention_mask': tensor([[1, 1, 1]])}"
      ]
     },
     "execution_count": 11,
     "metadata": {},
     "output_type": "execute_result"
    }
   ],
   "source": [
    "sent_2_tokens"
   ]
  },
  {
   "cell_type": "code",
   "execution_count": 12,
   "metadata": {},
   "outputs": [],
   "source": [
    "# For Special Tokens [CLS]=[101] and [SEP]=[102]:\n",
    "# token_type_ids=0\n",
    "# attention_mask=1\n",
    "# For Padding Token [PAD]=0:\n",
    "# token_type_ids=0\n",
    "# attention_mask=1"
   ]
  },
  {
   "cell_type": "code",
   "execution_count": 13,
   "metadata": {},
   "outputs": [],
   "source": [
    "concatenated_tokens = {}\n",
    "zero_t = torch.tensor([[0]])\n",
    "one_t = torch.tensor([[1]])\n",
    "cls_t = torch.tensor([[101]])\n",
    "sep_t = torch.tensor([[102]])\n",
    "pad_tokens = torch.tensor([[0]*total_padding_required])\n",
    "for k, v in sent_1_tokens.items():\n",
    "    if k == \"input_ids\":\n",
    "        concatenated_tokens[k] = torch.cat((cls_t, sent_1_tokens[k], sep_t, sent_2_tokens[k], sep_t,pad_tokens), axis=1)\n",
    "    if k == \"token_type_ids\":\n",
    "        concatenated_tokens[k] = torch.cat((zero_t, sent_1_tokens[k], zero_t, sent_2_tokens[k], zero_t,pad_tokens), axis=1)\n",
    "    if k == \"attention_mask\":\n",
    "        concatenated_tokens[k] = torch.cat((one_t, sent_1_tokens[k], one_t, sent_2_tokens[k], one_t,pad_tokens), axis=1)"
   ]
  },
  {
   "cell_type": "code",
   "execution_count": 14,
   "metadata": {},
   "outputs": [
    {
     "data": {
      "text/plain": [
       "{'input_ids': tensor([[  101,  1045,  2066, 26191,  1012,   102,  2079,  2017,  1029,   102,\n",
       "              0,     0,     0,     0,     0,     0,     0,     0,     0,     0]]),\n",
       " 'token_type_ids': tensor([[0, 0, 0, 0, 0, 0, 0, 0, 0, 0, 0, 0, 0, 0, 0, 0, 0, 0, 0, 0]]),\n",
       " 'attention_mask': tensor([[1, 1, 1, 1, 1, 1, 1, 1, 1, 1, 0, 0, 0, 0, 0, 0, 0, 0, 0, 0]])}"
      ]
     },
     "execution_count": 14,
     "metadata": {},
     "output_type": "execute_result"
    }
   ],
   "source": [
    "concatenated_tokens"
   ]
  },
  {
   "cell_type": "code",
   "execution_count": 18,
   "metadata": {},
   "outputs": [
    {
     "data": {
      "text/plain": [
       "(20, 20, 20)"
      ]
     },
     "execution_count": 18,
     "metadata": {},
     "output_type": "execute_result"
    }
   ],
   "source": [
    "concatenated_tokens[\"input_ids\"].size(1), concatenated_tokens[\"token_type_ids\"].size(1), concatenated_tokens[\"attention_mask\"].size(1)"
   ]
  },
  {
   "cell_type": "code",
   "execution_count": null,
   "metadata": {},
   "outputs": [],
   "source": []
  }
 ],
 "metadata": {
  "kernelspec": {
   "display_name": "Python 3",
   "language": "python",
   "name": "python3"
  },
  "language_info": {
   "codemirror_mode": {
    "name": "ipython",
    "version": 3
   },
   "file_extension": ".py",
   "mimetype": "text/x-python",
   "name": "python",
   "nbconvert_exporter": "python",
   "pygments_lexer": "ipython3",
   "version": "3.7.4"
  }
 },
 "nbformat": 4,
 "nbformat_minor": 4
}
